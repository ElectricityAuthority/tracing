{
 "metadata": {
  "kernelspec": {
   "codemirror_mode": {
    "name": "ipython",
    "version": 2
   },
   "display_name": "IPython (Python 2)",
   "language": "python",
   "name": "python2"
  },
  "name": "",
  "signature": "sha256:28c2f7405583145ba4785550dbe1f34b53b5ec60ff11fdf0e278bc86cfcf1e6c"
 },
 "nbformat": 3,
 "nbformat_minor": 0,
 "worksheets": [
  {
   "cells": [
    {
     "cell_type": "heading",
     "level": 1,
     "metadata": {},
     "source": [
      "Trace results post-processing"
     ]
    },
    {
     "cell_type": "markdown",
     "metadata": {},
     "source": [
      "Once trace.py has run, this notebook can be used to combine the saved daily trace results.  \n",
      "\n",
      "Results are combined over each month, then over each year, then over the three year term.\n",
      "\n",
      "Once the mean results are calculated four transmission usage arrays are output:\n",
      "\n",
      "    td - transmission/transformer usage downstream to demand;\n",
      "    tu - transmission/transformer usage upstream to generators;\n",
      "    sd - substation usage downstream to demand;\n",
      "    su - substation usage upstream to generators.\n",
      "\n"
     ]
    },
    {
     "cell_type": "code",
     "collapsed": false,
     "input": [
      "import pandas as pd\n",
      "import os, glob"
     ],
     "language": "python",
     "metadata": {},
     "outputs": [],
     "prompt_number": 172
    },
    {
     "cell_type": "code",
     "collapsed": false,
     "input": [
      "daily_input_path = os.path.join('data', 'output', 'd')\n",
      "monthly_output_path = os.path.join('data', 'output', 'm')\n",
      "annual_output_path = os.path.join('data', 'output', 'y')\n",
      "total_output_path = os.path.join('data', 'output', 't')\n",
      "map_path =  os.path.join('data', 'input', 'maps')"
     ],
     "language": "python",
     "metadata": {},
     "outputs": [],
     "prompt_number": 173
    },
    {
     "cell_type": "code",
     "collapsed": false,
     "input": [
      "daily_input_path"
     ],
     "language": "python",
     "metadata": {},
     "outputs": [
      {
       "metadata": {},
       "output_type": "pyout",
       "prompt_number": 174,
       "text": [
        "'data/output/d'"
       ]
      }
     ],
     "prompt_number": 174
    },
    {
     "cell_type": "code",
     "collapsed": false,
     "input": [
      "# define function that returns the mean dataframe from a panel of all given dateframes \n",
      "\n",
      "def mean_results(input_path, year, month, trace_type='td'):\n",
      "    \"\"\"Function to return mean results over the month\"\"\"\n",
      "    P = {}\n",
      "    files = glob.glob(os.path.join(daily_input_path, trace_type + '_' + str(year) + str(month).zfill(2) + '*.csv'))\n",
      "    for i, f in enumerate(files):\n",
      "        #print i, f\n",
      "        P[i] = pd.read_csv(f, index_col = 0)\n",
      "    return pd.Panel(P).fillna(0.0).mean(0).fillna(0.0)  # take mean over the panel making sure to fill NaNs with zero!\n"
     ],
     "language": "python",
     "metadata": {},
     "outputs": [],
     "prompt_number": 175
    },
    {
     "cell_type": "code",
     "collapsed": false,
     "input": [
      "# loop over daily trace results and save monthly mean results to m dir- this works but is very slow!\n",
      "\n",
      "for trace_type in ['td', 'tu', 'sd', 'su']:\n",
      "    for YYYY in range(2011,2014):\n",
      "        for MM in range(1,13):\n",
      "            output_filename = os.path.join(monthly_output_path, trace_type + '_' + str(YYYY) + str(MM).zfill(2) + '.csv')\n",
      "            print \"Returning mean for \" + trace_type + ': ' + str(YYYY) + \"/\" + str(MM).zfill(2) + ' to ' + output_filename\n",
      "            month_results(input_path, YYYY, MM, trace_type=trace_type).to_csv(output_filename)\n"
     ],
     "language": "python",
     "metadata": {},
     "outputs": [
      {
       "output_type": "stream",
       "stream": "stdout",
       "text": [
        "Returning mean for td: 2011/01 to data/output/m/td_201101.csv\n",
        "Returning mean for td: 2011/02 to data/output/m/td_201102.csv"
       ]
      },
      {
       "output_type": "stream",
       "stream": "stdout",
       "text": [
        "\n",
        "Returning mean for td: 2011/03 to data/output/m/td_201103.csv"
       ]
      },
      {
       "output_type": "stream",
       "stream": "stdout",
       "text": [
        "\n",
        "Returning mean for td: 2011/04 to data/output/m/td_201104.csv"
       ]
      },
      {
       "output_type": "stream",
       "stream": "stdout",
       "text": [
        "\n",
        "Returning mean for td: 2011/05 to data/output/m/td_201105.csv"
       ]
      },
      {
       "output_type": "stream",
       "stream": "stdout",
       "text": [
        "\n",
        "Returning mean for td: 2011/06 to data/output/m/td_201106.csv"
       ]
      },
      {
       "output_type": "stream",
       "stream": "stdout",
       "text": [
        "\n",
        "Returning mean for td: 2011/07 to data/output/m/td_201107.csv"
       ]
      },
      {
       "output_type": "stream",
       "stream": "stdout",
       "text": [
        "\n",
        "Returning mean for td: 2011/08 to data/output/m/td_201108.csv"
       ]
      },
      {
       "output_type": "stream",
       "stream": "stdout",
       "text": [
        "\n",
        "Returning mean for td: 2011/09 to data/output/m/td_201109.csv"
       ]
      },
      {
       "output_type": "stream",
       "stream": "stdout",
       "text": [
        "\n",
        "Returning mean for td: 2011/10 to data/output/m/td_201110.csv"
       ]
      },
      {
       "output_type": "stream",
       "stream": "stdout",
       "text": [
        "\n",
        "Returning mean for td: 2011/11 to data/output/m/td_201111.csv"
       ]
      },
      {
       "output_type": "stream",
       "stream": "stdout",
       "text": [
        "\n",
        "Returning mean for td: 2011/12 to data/output/m/td_201112.csv"
       ]
      },
      {
       "output_type": "stream",
       "stream": "stdout",
       "text": [
        "\n",
        "Returning mean for td: 2012/01 to data/output/m/td_201201.csv"
       ]
      },
      {
       "output_type": "stream",
       "stream": "stdout",
       "text": [
        "\n",
        "Returning mean for td: 2012/02 to data/output/m/td_201202.csv"
       ]
      },
      {
       "output_type": "stream",
       "stream": "stdout",
       "text": [
        "\n",
        "Returning mean for td: 2012/03 to data/output/m/td_201203.csv"
       ]
      },
      {
       "output_type": "stream",
       "stream": "stdout",
       "text": [
        "\n",
        "Returning mean for td: 2012/04 to data/output/m/td_201204.csv"
       ]
      },
      {
       "output_type": "stream",
       "stream": "stdout",
       "text": [
        "\n",
        "Returning mean for td: 2012/05 to data/output/m/td_201205.csv"
       ]
      },
      {
       "output_type": "stream",
       "stream": "stdout",
       "text": [
        "\n",
        "Returning mean for td: 2012/06 to data/output/m/td_201206.csv"
       ]
      },
      {
       "output_type": "stream",
       "stream": "stdout",
       "text": [
        "\n",
        "Returning mean for td: 2012/07 to data/output/m/td_201207.csv"
       ]
      },
      {
       "output_type": "stream",
       "stream": "stdout",
       "text": [
        "\n",
        "Returning mean for td: 2012/08 to data/output/m/td_201208.csv"
       ]
      },
      {
       "output_type": "stream",
       "stream": "stdout",
       "text": [
        "\n",
        "Returning mean for td: 2012/09 to data/output/m/td_201209.csv"
       ]
      },
      {
       "output_type": "stream",
       "stream": "stdout",
       "text": [
        "\n",
        "Returning mean for td: 2012/10 to data/output/m/td_201210.csv"
       ]
      },
      {
       "output_type": "stream",
       "stream": "stdout",
       "text": [
        "\n",
        "Returning mean for td: 2012/11 to data/output/m/td_201211.csv"
       ]
      },
      {
       "output_type": "stream",
       "stream": "stdout",
       "text": [
        "\n",
        "Returning mean for td: 2012/12 to data/output/m/td_201212.csv"
       ]
      },
      {
       "output_type": "stream",
       "stream": "stdout",
       "text": [
        "\n",
        "Returning mean for td: 2013/01 to data/output/m/td_201301.csv"
       ]
      },
      {
       "output_type": "stream",
       "stream": "stdout",
       "text": [
        "\n",
        "Returning mean for td: 2013/02 to data/output/m/td_201302.csv"
       ]
      },
      {
       "output_type": "stream",
       "stream": "stdout",
       "text": [
        "\n",
        "Returning mean for td: 2013/03 to data/output/m/td_201303.csv"
       ]
      },
      {
       "output_type": "stream",
       "stream": "stdout",
       "text": [
        "\n",
        "Returning mean for td: 2013/04 to data/output/m/td_201304.csv"
       ]
      },
      {
       "output_type": "stream",
       "stream": "stdout",
       "text": [
        "\n",
        "Returning mean for td: 2013/05 to data/output/m/td_201305.csv"
       ]
      },
      {
       "output_type": "stream",
       "stream": "stdout",
       "text": [
        "\n",
        "Returning mean for td: 2013/06 to data/output/m/td_201306.csv"
       ]
      },
      {
       "output_type": "stream",
       "stream": "stdout",
       "text": [
        "\n",
        "Returning mean for td: 2013/07 to data/output/m/td_201307.csv"
       ]
      },
      {
       "output_type": "stream",
       "stream": "stdout",
       "text": [
        "\n",
        "Returning mean for td: 2013/08 to data/output/m/td_201308.csv"
       ]
      },
      {
       "output_type": "stream",
       "stream": "stdout",
       "text": [
        "\n",
        "Returning mean for td: 2013/09 to data/output/m/td_201309.csv"
       ]
      },
      {
       "output_type": "stream",
       "stream": "stdout",
       "text": [
        "\n",
        "Returning mean for td: 2013/10 to data/output/m/td_201310.csv"
       ]
      },
      {
       "output_type": "stream",
       "stream": "stdout",
       "text": [
        "\n",
        "Returning mean for td: 2013/11 to data/output/m/td_201311.csv"
       ]
      },
      {
       "output_type": "stream",
       "stream": "stdout",
       "text": [
        "\n",
        "Returning mean for td: 2013/12 to data/output/m/td_201312.csv"
       ]
      },
      {
       "output_type": "stream",
       "stream": "stdout",
       "text": [
        "\n",
        "Returning mean for tu: 2011/01 to data/output/m/tu_201101.csv"
       ]
      },
      {
       "output_type": "stream",
       "stream": "stdout",
       "text": [
        "\n",
        "Returning mean for tu: 2011/02 to data/output/m/tu_201102.csv"
       ]
      },
      {
       "output_type": "stream",
       "stream": "stdout",
       "text": [
        "\n",
        "Returning mean for tu: 2011/03 to data/output/m/tu_201103.csv"
       ]
      },
      {
       "output_type": "stream",
       "stream": "stdout",
       "text": [
        "\n",
        "Returning mean for tu: 2011/04 to data/output/m/tu_201104.csv"
       ]
      },
      {
       "output_type": "stream",
       "stream": "stdout",
       "text": [
        "\n",
        "Returning mean for tu: 2011/05 to data/output/m/tu_201105.csv"
       ]
      },
      {
       "output_type": "stream",
       "stream": "stdout",
       "text": [
        "\n",
        "Returning mean for tu: 2011/06 to data/output/m/tu_201106.csv"
       ]
      },
      {
       "output_type": "stream",
       "stream": "stdout",
       "text": [
        "\n",
        "Returning mean for tu: 2011/07 to data/output/m/tu_201107.csv"
       ]
      },
      {
       "output_type": "stream",
       "stream": "stdout",
       "text": [
        "\n",
        "Returning mean for tu: 2011/08 to data/output/m/tu_201108.csv"
       ]
      },
      {
       "output_type": "stream",
       "stream": "stdout",
       "text": [
        "\n",
        "Returning mean for tu: 2011/09 to data/output/m/tu_201109.csv"
       ]
      },
      {
       "output_type": "stream",
       "stream": "stdout",
       "text": [
        "\n",
        "Returning mean for tu: 2011/10 to data/output/m/tu_201110.csv"
       ]
      },
      {
       "output_type": "stream",
       "stream": "stdout",
       "text": [
        "\n",
        "Returning mean for tu: 2011/11 to data/output/m/tu_201111.csv"
       ]
      },
      {
       "output_type": "stream",
       "stream": "stdout",
       "text": [
        "\n",
        "Returning mean for tu: 2011/12 to data/output/m/tu_201112.csv"
       ]
      },
      {
       "output_type": "stream",
       "stream": "stdout",
       "text": [
        "\n",
        "Returning mean for tu: 2012/01 to data/output/m/tu_201201.csv"
       ]
      },
      {
       "output_type": "stream",
       "stream": "stdout",
       "text": [
        "\n",
        "Returning mean for tu: 2012/02 to data/output/m/tu_201202.csv"
       ]
      },
      {
       "output_type": "stream",
       "stream": "stdout",
       "text": [
        "\n",
        "Returning mean for tu: 2012/03 to data/output/m/tu_201203.csv"
       ]
      },
      {
       "output_type": "stream",
       "stream": "stdout",
       "text": [
        "\n",
        "Returning mean for tu: 2012/04 to data/output/m/tu_201204.csv"
       ]
      },
      {
       "output_type": "stream",
       "stream": "stdout",
       "text": [
        "\n",
        "Returning mean for tu: 2012/05 to data/output/m/tu_201205.csv"
       ]
      },
      {
       "output_type": "stream",
       "stream": "stdout",
       "text": [
        "\n",
        "Returning mean for tu: 2012/06 to data/output/m/tu_201206.csv"
       ]
      },
      {
       "output_type": "stream",
       "stream": "stdout",
       "text": [
        "\n",
        "Returning mean for tu: 2012/07 to data/output/m/tu_201207.csv"
       ]
      },
      {
       "output_type": "stream",
       "stream": "stdout",
       "text": [
        "\n",
        "Returning mean for tu: 2012/08 to data/output/m/tu_201208.csv"
       ]
      },
      {
       "output_type": "stream",
       "stream": "stdout",
       "text": [
        "\n",
        "Returning mean for tu: 2012/09 to data/output/m/tu_201209.csv"
       ]
      },
      {
       "output_type": "stream",
       "stream": "stdout",
       "text": [
        "\n",
        "Returning mean for tu: 2012/10 to data/output/m/tu_201210.csv"
       ]
      },
      {
       "output_type": "stream",
       "stream": "stdout",
       "text": [
        "\n",
        "Returning mean for tu: 2012/11 to data/output/m/tu_201211.csv"
       ]
      },
      {
       "output_type": "stream",
       "stream": "stdout",
       "text": [
        "\n",
        "Returning mean for tu: 2012/12 to data/output/m/tu_201212.csv"
       ]
      },
      {
       "output_type": "stream",
       "stream": "stdout",
       "text": [
        "\n",
        "Returning mean for tu: 2013/01 to data/output/m/tu_201301.csv"
       ]
      },
      {
       "output_type": "stream",
       "stream": "stdout",
       "text": [
        "\n",
        "Returning mean for tu: 2013/02 to data/output/m/tu_201302.csv"
       ]
      },
      {
       "output_type": "stream",
       "stream": "stdout",
       "text": [
        "\n",
        "Returning mean for tu: 2013/03 to data/output/m/tu_201303.csv"
       ]
      },
      {
       "output_type": "stream",
       "stream": "stdout",
       "text": [
        "\n",
        "Returning mean for tu: 2013/04 to data/output/m/tu_201304.csv"
       ]
      },
      {
       "output_type": "stream",
       "stream": "stdout",
       "text": [
        "\n",
        "Returning mean for tu: 2013/05 to data/output/m/tu_201305.csv"
       ]
      },
      {
       "output_type": "stream",
       "stream": "stdout",
       "text": [
        "\n",
        "Returning mean for tu: 2013/06 to data/output/m/tu_201306.csv"
       ]
      },
      {
       "output_type": "stream",
       "stream": "stdout",
       "text": [
        "\n",
        "Returning mean for tu: 2013/07 to data/output/m/tu_201307.csv"
       ]
      },
      {
       "output_type": "stream",
       "stream": "stdout",
       "text": [
        "\n",
        "Returning mean for tu: 2013/08 to data/output/m/tu_201308.csv"
       ]
      },
      {
       "output_type": "stream",
       "stream": "stdout",
       "text": [
        "\n",
        "Returning mean for tu: 2013/09 to data/output/m/tu_201309.csv"
       ]
      },
      {
       "output_type": "stream",
       "stream": "stdout",
       "text": [
        "\n",
        "Returning mean for tu: 2013/10 to data/output/m/tu_201310.csv"
       ]
      },
      {
       "output_type": "stream",
       "stream": "stdout",
       "text": [
        "\n",
        "Returning mean for tu: 2013/11 to data/output/m/tu_201311.csv"
       ]
      },
      {
       "output_type": "stream",
       "stream": "stdout",
       "text": [
        "\n",
        "Returning mean for tu: 2013/12 to data/output/m/tu_201312.csv"
       ]
      },
      {
       "output_type": "stream",
       "stream": "stdout",
       "text": [
        "\n",
        "Returning mean for sd: 2011/01 to data/output/m/sd_201101.csv"
       ]
      },
      {
       "output_type": "stream",
       "stream": "stdout",
       "text": [
        "\n",
        "Returning mean for sd: 2011/02 to data/output/m/sd_201102.csv"
       ]
      },
      {
       "output_type": "stream",
       "stream": "stdout",
       "text": [
        "\n",
        "Returning mean for sd: 2011/03 to data/output/m/sd_201103.csv"
       ]
      },
      {
       "output_type": "stream",
       "stream": "stdout",
       "text": [
        "\n",
        "Returning mean for sd: 2011/04 to data/output/m/sd_201104.csv"
       ]
      },
      {
       "output_type": "stream",
       "stream": "stdout",
       "text": [
        "\n",
        "Returning mean for sd: 2011/05 to data/output/m/sd_201105.csv"
       ]
      },
      {
       "output_type": "stream",
       "stream": "stdout",
       "text": [
        "\n",
        "Returning mean for sd: 2011/06 to data/output/m/sd_201106.csv"
       ]
      },
      {
       "output_type": "stream",
       "stream": "stdout",
       "text": [
        "\n",
        "Returning mean for sd: 2011/07 to data/output/m/sd_201107.csv"
       ]
      },
      {
       "output_type": "stream",
       "stream": "stdout",
       "text": [
        "\n",
        "Returning mean for sd: 2011/08 to data/output/m/sd_201108.csv"
       ]
      },
      {
       "output_type": "stream",
       "stream": "stdout",
       "text": [
        "\n",
        "Returning mean for sd: 2011/09 to data/output/m/sd_201109.csv"
       ]
      },
      {
       "output_type": "stream",
       "stream": "stdout",
       "text": [
        "\n",
        "Returning mean for sd: 2011/10 to data/output/m/sd_201110.csv"
       ]
      },
      {
       "output_type": "stream",
       "stream": "stdout",
       "text": [
        "\n",
        "Returning mean for sd: 2011/11 to data/output/m/sd_201111.csv"
       ]
      },
      {
       "output_type": "stream",
       "stream": "stdout",
       "text": [
        "\n",
        "Returning mean for sd: 2011/12 to data/output/m/sd_201112.csv"
       ]
      },
      {
       "output_type": "stream",
       "stream": "stdout",
       "text": [
        "\n",
        "Returning mean for sd: 2012/01 to data/output/m/sd_201201.csv"
       ]
      },
      {
       "output_type": "stream",
       "stream": "stdout",
       "text": [
        "\n",
        "Returning mean for sd: 2012/02 to data/output/m/sd_201202.csv"
       ]
      },
      {
       "output_type": "stream",
       "stream": "stdout",
       "text": [
        "\n",
        "Returning mean for sd: 2012/03 to data/output/m/sd_201203.csv"
       ]
      },
      {
       "output_type": "stream",
       "stream": "stdout",
       "text": [
        "\n",
        "Returning mean for sd: 2012/04 to data/output/m/sd_201204.csv"
       ]
      },
      {
       "output_type": "stream",
       "stream": "stdout",
       "text": [
        "\n",
        "Returning mean for sd: 2012/05 to data/output/m/sd_201205.csv"
       ]
      },
      {
       "output_type": "stream",
       "stream": "stdout",
       "text": [
        "\n",
        "Returning mean for sd: 2012/06 to data/output/m/sd_201206.csv"
       ]
      },
      {
       "output_type": "stream",
       "stream": "stdout",
       "text": [
        "\n",
        "Returning mean for sd: 2012/07 to data/output/m/sd_201207.csv"
       ]
      },
      {
       "output_type": "stream",
       "stream": "stdout",
       "text": [
        "\n",
        "Returning mean for sd: 2012/08 to data/output/m/sd_201208.csv"
       ]
      },
      {
       "output_type": "stream",
       "stream": "stdout",
       "text": [
        "\n",
        "Returning mean for sd: 2012/09 to data/output/m/sd_201209.csv"
       ]
      },
      {
       "output_type": "stream",
       "stream": "stdout",
       "text": [
        "\n",
        "Returning mean for sd: 2012/10 to data/output/m/sd_201210.csv"
       ]
      },
      {
       "output_type": "stream",
       "stream": "stdout",
       "text": [
        "\n",
        "Returning mean for sd: 2012/11 to data/output/m/sd_201211.csv"
       ]
      },
      {
       "output_type": "stream",
       "stream": "stdout",
       "text": [
        "\n",
        "Returning mean for sd: 2012/12 to data/output/m/sd_201212.csv"
       ]
      },
      {
       "output_type": "stream",
       "stream": "stdout",
       "text": [
        "\n",
        "Returning mean for sd: 2013/01 to data/output/m/sd_201301.csv"
       ]
      },
      {
       "output_type": "stream",
       "stream": "stdout",
       "text": [
        "\n",
        "Returning mean for sd: 2013/02 to data/output/m/sd_201302.csv"
       ]
      },
      {
       "output_type": "stream",
       "stream": "stdout",
       "text": [
        "\n",
        "Returning mean for sd: 2013/03 to data/output/m/sd_201303.csv"
       ]
      },
      {
       "output_type": "stream",
       "stream": "stdout",
       "text": [
        "\n",
        "Returning mean for sd: 2013/04 to data/output/m/sd_201304.csv"
       ]
      },
      {
       "output_type": "stream",
       "stream": "stdout",
       "text": [
        "\n",
        "Returning mean for sd: 2013/05 to data/output/m/sd_201305.csv"
       ]
      },
      {
       "output_type": "stream",
       "stream": "stdout",
       "text": [
        "\n",
        "Returning mean for sd: 2013/06 to data/output/m/sd_201306.csv"
       ]
      },
      {
       "output_type": "stream",
       "stream": "stdout",
       "text": [
        "\n",
        "Returning mean for sd: 2013/07 to data/output/m/sd_201307.csv"
       ]
      },
      {
       "output_type": "stream",
       "stream": "stdout",
       "text": [
        "\n",
        "Returning mean for sd: 2013/08 to data/output/m/sd_201308.csv"
       ]
      },
      {
       "output_type": "stream",
       "stream": "stdout",
       "text": [
        "\n",
        "Returning mean for sd: 2013/09 to data/output/m/sd_201309.csv"
       ]
      },
      {
       "output_type": "stream",
       "stream": "stdout",
       "text": [
        "\n",
        "Returning mean for sd: 2013/10 to data/output/m/sd_201310.csv"
       ]
      },
      {
       "output_type": "stream",
       "stream": "stdout",
       "text": [
        "\n",
        "Returning mean for sd: 2013/11 to data/output/m/sd_201311.csv"
       ]
      },
      {
       "output_type": "stream",
       "stream": "stdout",
       "text": [
        "\n",
        "Returning mean for sd: 2013/12 to data/output/m/sd_201312.csv"
       ]
      },
      {
       "output_type": "stream",
       "stream": "stdout",
       "text": [
        "\n",
        "Returning mean for su: 2011/01 to data/output/m/su_201101.csv"
       ]
      },
      {
       "output_type": "stream",
       "stream": "stdout",
       "text": [
        "\n",
        "Returning mean for su: 2011/02 to data/output/m/su_201102.csv"
       ]
      },
      {
       "output_type": "stream",
       "stream": "stdout",
       "text": [
        "\n",
        "Returning mean for su: 2011/03 to data/output/m/su_201103.csv"
       ]
      },
      {
       "output_type": "stream",
       "stream": "stdout",
       "text": [
        "\n",
        "Returning mean for su: 2011/04 to data/output/m/su_201104.csv"
       ]
      },
      {
       "output_type": "stream",
       "stream": "stdout",
       "text": [
        "\n",
        "Returning mean for su: 2011/05 to data/output/m/su_201105.csv"
       ]
      },
      {
       "output_type": "stream",
       "stream": "stdout",
       "text": [
        "\n",
        "Returning mean for su: 2011/06 to data/output/m/su_201106.csv"
       ]
      },
      {
       "output_type": "stream",
       "stream": "stdout",
       "text": [
        "\n",
        "Returning mean for su: 2011/07 to data/output/m/su_201107.csv"
       ]
      },
      {
       "output_type": "stream",
       "stream": "stdout",
       "text": [
        "\n",
        "Returning mean for su: 2011/08 to data/output/m/su_201108.csv"
       ]
      },
      {
       "output_type": "stream",
       "stream": "stdout",
       "text": [
        "\n",
        "Returning mean for su: 2011/09 to data/output/m/su_201109.csv"
       ]
      },
      {
       "output_type": "stream",
       "stream": "stdout",
       "text": [
        "\n",
        "Returning mean for su: 2011/10 to data/output/m/su_201110.csv"
       ]
      },
      {
       "output_type": "stream",
       "stream": "stdout",
       "text": [
        "\n",
        "Returning mean for su: 2011/11 to data/output/m/su_201111.csv"
       ]
      },
      {
       "output_type": "stream",
       "stream": "stdout",
       "text": [
        "\n",
        "Returning mean for su: 2011/12 to data/output/m/su_201112.csv"
       ]
      },
      {
       "output_type": "stream",
       "stream": "stdout",
       "text": [
        "\n",
        "Returning mean for su: 2012/01 to data/output/m/su_201201.csv"
       ]
      },
      {
       "output_type": "stream",
       "stream": "stdout",
       "text": [
        "\n",
        "Returning mean for su: 2012/02 to data/output/m/su_201202.csv"
       ]
      },
      {
       "output_type": "stream",
       "stream": "stdout",
       "text": [
        "\n",
        "Returning mean for su: 2012/03 to data/output/m/su_201203.csv"
       ]
      },
      {
       "output_type": "stream",
       "stream": "stdout",
       "text": [
        "\n",
        "Returning mean for su: 2012/04 to data/output/m/su_201204.csv"
       ]
      },
      {
       "output_type": "stream",
       "stream": "stdout",
       "text": [
        "\n",
        "Returning mean for su: 2012/05 to data/output/m/su_201205.csv"
       ]
      },
      {
       "output_type": "stream",
       "stream": "stdout",
       "text": [
        "\n",
        "Returning mean for su: 2012/06 to data/output/m/su_201206.csv"
       ]
      },
      {
       "output_type": "stream",
       "stream": "stdout",
       "text": [
        "\n",
        "Returning mean for su: 2012/07 to data/output/m/su_201207.csv"
       ]
      },
      {
       "output_type": "stream",
       "stream": "stdout",
       "text": [
        "\n",
        "Returning mean for su: 2012/08 to data/output/m/su_201208.csv"
       ]
      },
      {
       "output_type": "stream",
       "stream": "stdout",
       "text": [
        "\n",
        "Returning mean for su: 2012/09 to data/output/m/su_201209.csv"
       ]
      },
      {
       "output_type": "stream",
       "stream": "stdout",
       "text": [
        "\n",
        "Returning mean for su: 2012/10 to data/output/m/su_201210.csv"
       ]
      },
      {
       "output_type": "stream",
       "stream": "stdout",
       "text": [
        "\n",
        "Returning mean for su: 2012/11 to data/output/m/su_201211.csv"
       ]
      },
      {
       "output_type": "stream",
       "stream": "stdout",
       "text": [
        "\n",
        "Returning mean for su: 2012/12 to data/output/m/su_201212.csv"
       ]
      },
      {
       "output_type": "stream",
       "stream": "stdout",
       "text": [
        "\n",
        "Returning mean for su: 2013/01 to data/output/m/su_201301.csv"
       ]
      },
      {
       "output_type": "stream",
       "stream": "stdout",
       "text": [
        "\n",
        "Returning mean for su: 2013/02 to data/output/m/su_201302.csv"
       ]
      },
      {
       "output_type": "stream",
       "stream": "stdout",
       "text": [
        "\n",
        "Returning mean for su: 2013/03 to data/output/m/su_201303.csv"
       ]
      },
      {
       "output_type": "stream",
       "stream": "stdout",
       "text": [
        "\n",
        "Returning mean for su: 2013/04 to data/output/m/su_201304.csv"
       ]
      },
      {
       "output_type": "stream",
       "stream": "stdout",
       "text": [
        "\n",
        "Returning mean for su: 2013/05 to data/output/m/su_201305.csv"
       ]
      },
      {
       "output_type": "stream",
       "stream": "stdout",
       "text": [
        "\n",
        "Returning mean for su: 2013/06 to data/output/m/su_201306.csv"
       ]
      },
      {
       "output_type": "stream",
       "stream": "stdout",
       "text": [
        "\n",
        "Returning mean for su: 2013/07 to data/output/m/su_201307.csv"
       ]
      },
      {
       "output_type": "stream",
       "stream": "stdout",
       "text": [
        "\n",
        "Returning mean for su: 2013/08 to data/output/m/su_201308.csv"
       ]
      },
      {
       "output_type": "stream",
       "stream": "stdout",
       "text": [
        "\n",
        "Returning mean for su: 2013/09 to data/output/m/su_201309.csv"
       ]
      },
      {
       "output_type": "stream",
       "stream": "stdout",
       "text": [
        "\n",
        "Returning mean for su: 2013/10 to data/output/m/su_201310.csv"
       ]
      },
      {
       "output_type": "stream",
       "stream": "stdout",
       "text": [
        "\n",
        "Returning mean for su: 2013/11 to data/output/m/su_201311.csv"
       ]
      },
      {
       "output_type": "stream",
       "stream": "stdout",
       "text": [
        "\n",
        "Returning mean for su: 2013/12 to data/output/m/su_201312.csv"
       ]
      },
      {
       "output_type": "stream",
       "stream": "stdout",
       "text": [
        "\n"
       ]
      }
     ],
     "prompt_number": 115
    },
    {
     "cell_type": "code",
     "collapsed": false,
     "input": [
      "# combine monthlies into annuals and save to csv in y dir\n",
      "# define function that returns the mean dataframe from a panel of all given dateframes \n",
      "def mean_results(input_path, year, trace_type='td'):\n",
      "    \"\"\"Function to return mean results over the month\"\"\"\n",
      "    P = {}\n",
      "    files = glob.glob(os.path.join(input_path, trace_type + '_' + str(year) + '*.csv'))\n",
      "    for i, f in enumerate(files):\n",
      "        #print i, f\n",
      "        P[i] = pd.read_csv(f, index_col = 0)\n",
      "    return pd.Panel(P).fillna(0.0).mean(0).fillna(0.0)\n",
      "\n",
      "for trace_type in ['td', 'tu', 'sd', 'su']:\n",
      "    for YYYY in range(2011,2014):\n",
      "        output_filename = os.path.join(annual_output_path, trace_type + '_' + str(YYYY) + '.csv')\n",
      "        print \"Returning mean for \" + trace_type + ': ' + str(YYYY) + ' to ' + output_filename\n",
      "        mean_results(monthly_output_path, YYYY, trace_type=trace_type).to_csv(output_filename)\n",
      "            "
     ],
     "language": "python",
     "metadata": {},
     "outputs": [
      {
       "output_type": "stream",
       "stream": "stdout",
       "text": [
        "Returning mean for td: 2011 to data/output/y/td_2011.csv\n",
        "Returning mean for td: 2012 to data/output/y/td_2012.csv"
       ]
      },
      {
       "output_type": "stream",
       "stream": "stdout",
       "text": [
        "\n",
        "Returning mean for td: 2013 to data/output/y/td_2013.csv"
       ]
      },
      {
       "output_type": "stream",
       "stream": "stdout",
       "text": [
        "\n",
        "Returning mean for tu: 2011 to data/output/y/tu_2011.csv"
       ]
      },
      {
       "output_type": "stream",
       "stream": "stdout",
       "text": [
        "\n",
        "Returning mean for tu: 2012 to data/output/y/tu_2012.csv"
       ]
      },
      {
       "output_type": "stream",
       "stream": "stdout",
       "text": [
        "\n",
        "Returning mean for tu: 2013 to data/output/y/tu_2013.csv"
       ]
      },
      {
       "output_type": "stream",
       "stream": "stdout",
       "text": [
        "\n",
        "Returning mean for sd: 2011 to data/output/y/sd_2011.csv"
       ]
      },
      {
       "output_type": "stream",
       "stream": "stdout",
       "text": [
        "\n",
        "Returning mean for sd: 2012 to data/output/y/sd_2012.csv"
       ]
      },
      {
       "output_type": "stream",
       "stream": "stdout",
       "text": [
        "\n",
        "Returning mean for sd: 2013 to data/output/y/sd_2013.csv"
       ]
      },
      {
       "output_type": "stream",
       "stream": "stdout",
       "text": [
        "\n",
        "Returning mean for su: 2011 to data/output/y/su_2011.csv"
       ]
      },
      {
       "output_type": "stream",
       "stream": "stdout",
       "text": [
        "\n",
        "Returning mean for su: 2012 to data/output/y/su_2012.csv"
       ]
      },
      {
       "output_type": "stream",
       "stream": "stdout",
       "text": [
        "\n",
        "Returning mean for su: 2013 to data/output/y/su_2013.csv"
       ]
      },
      {
       "output_type": "stream",
       "stream": "stdout",
       "text": [
        "\n"
       ]
      }
     ],
     "prompt_number": 116
    },
    {
     "cell_type": "code",
     "collapsed": false,
     "input": [
      "# combine annuals into total for 3 years and save to csv in t dir\n",
      "\n",
      "def mean_results(input_path, trace_type='td'):\n",
      "    \"\"\"Function to return mean results over the month\"\"\"\n",
      "    P = {}\n",
      "    files = glob.glob(os.path.join(input_path, trace_type + '*.csv'))\n",
      "    for i, f in enumerate(files):\n",
      "        #print i, f\n",
      "        P[i] = pd.read_csv(f, index_col = 0)\n",
      "    return pd.Panel(P).fillna(0.0).mean(0).fillna(0.0)\n",
      "\n",
      "for trace_type in ['td', 'tu', 'sd', 'su']:\n",
      "    output_filename = os.path.join(total_output_path, trace_type + '.csv')\n",
      "    print \"Returning mean for \" + trace_type + ': to ' + output_filename\n",
      "    mean_results(annual_output_path, trace_type=trace_type).to_csv(output_filename)\n"
     ],
     "language": "python",
     "metadata": {},
     "outputs": [
      {
       "output_type": "stream",
       "stream": "stdout",
       "text": [
        "Returning mean for td: to data/output/t/td.csv\n",
        "Returning mean for tu: to data/output/t/tu.csv"
       ]
      },
      {
       "output_type": "stream",
       "stream": "stdout",
       "text": [
        "\n",
        "Returning mean for sd: to data/output/t/sd.csv"
       ]
      },
      {
       "output_type": "stream",
       "stream": "stdout",
       "text": [
        "\n",
        "Returning mean for su: to data/output/t/su.csv"
       ]
      },
      {
       "output_type": "stream",
       "stream": "stdout",
       "text": [
        "\n"
       ]
      }
     ],
     "prompt_number": 117
    },
    {
     "cell_type": "code",
     "collapsed": false,
     "input": [
      "# load the total trace matrices over the tree years\n",
      "\n",
      "td = pd.read_csv(os.path.join(total_output_path, 'td.csv'), index_col=0)\n",
      "tu = pd.read_csv(os.path.join(total_output_path, 'tu.csv'), index_col=0)\n",
      "sd = pd.read_csv(os.path.join(total_output_path, 'sd.csv'), index_col=0)\n",
      "su = pd.read_csv(os.path.join(total_output_path, 'su.csv'), index_col=0)"
     ],
     "language": "python",
     "metadata": {},
     "outputs": [],
     "prompt_number": 118
    },
    {
     "cell_type": "code",
     "collapsed": false,
     "input": [
      "# groupby ELB company for downstream matrices and GIP for generation \n",
      "\n",
      "# load the GXP to Line company mapping and export to dictionary\n",
      "elb2gxp = pd.read_csv(os.path.join(map_path, 'elb2gxp.csv'), index_col=0, header=None)[1].to_dict()\n",
      "\n",
      "# sum downstream GXPs by line company\n",
      "td.columns = td.columns.map(lambda x: elb2gxp[x[0:7]])\n",
      "td = td.groupby(level=0, axis=1, sort=False).sum()\n",
      "\n",
      "# substation.\n",
      "sd = sd.ix[sd.sum(axis=1) > 0, sd.sum() > 0]  # only if there are flows\n",
      "sd.columns = sd.columns.map(lambda x: elb2gxp[x[0:7]])\n",
      "sd = sd.groupby(level=0, axis=1, sort=False).sum()\n",
      "sd = sd.groupby(sd.index.map(lambda x: x[0:3]), sort=False).sum()\n",
      "\n",
      "su = su.groupby(su.index.map(lambda x: x[0:3]), sort=False).sum()\n"
     ],
     "language": "python",
     "metadata": {},
     "outputs": [],
     "prompt_number": 119
    },
    {
     "cell_type": "code",
     "collapsed": false,
     "input": [
      "td.head()"
     ],
     "language": "python",
     "metadata": {},
     "outputs": [
      {
       "html": [
        "<div style=\"max-height:1000px;max-width:1500px;overflow:auto;\">\n",
        "<table border=\"1\" class=\"dataframe\">\n",
        "  <thead>\n",
        "    <tr style=\"text-align: right;\">\n",
        "      <th></th>\n",
        "      <th>ALPE</th>\n",
        "      <th>ORON</th>\n",
        "      <th>UNET</th>\n",
        "      <th>TRUS</th>\n",
        "      <th>EASH</th>\n",
        "      <th>MPOW</th>\n",
        "      <th>WPOW</th>\n",
        "      <th>OTPO</th>\n",
        "      <th>RAYN</th>\n",
        "      <th>MARL</th>\n",
        "      <th>...</th>\n",
        "      <th>METH</th>\n",
        "      <th>NAPJ</th>\n",
        "      <th>MRPL</th>\n",
        "      <th>BUEL</th>\n",
        "      <th>WNST</th>\n",
        "      <th>TRPG</th>\n",
        "      <th>NZAS</th>\n",
        "      <th>PANP</th>\n",
        "      <th>TUAR</th>\n",
        "      <th>CHBP</th>\n",
        "    </tr>\n",
        "  </thead>\n",
        "  <tbody>\n",
        "    <tr>\n",
        "      <th>ABY_T2.T2</th>\n",
        "      <td> 1.103349</td>\n",
        "      <td>  0.000000</td>\n",
        "      <td> 0</td>\n",
        "      <td> 0</td>\n",
        "      <td> 0</td>\n",
        "      <td> 0</td>\n",
        "      <td> 0</td>\n",
        "      <td> 0</td>\n",
        "      <td> 0</td>\n",
        "      <td> 0</td>\n",
        "      <td>...</td>\n",
        "      <td> 0</td>\n",
        "      <td> 0</td>\n",
        "      <td> 0</td>\n",
        "      <td> 0</td>\n",
        "      <td> 0</td>\n",
        "      <td> 0</td>\n",
        "      <td> 0</td>\n",
        "      <td> 0</td>\n",
        "      <td> 0</td>\n",
        "      <td> 0</td>\n",
        "    </tr>\n",
        "    <tr>\n",
        "      <th>ADD_ISL1.1</th>\n",
        "      <td> 0.000000</td>\n",
        "      <td> 25.147134</td>\n",
        "      <td> 0</td>\n",
        "      <td> 0</td>\n",
        "      <td> 0</td>\n",
        "      <td> 0</td>\n",
        "      <td> 0</td>\n",
        "      <td> 0</td>\n",
        "      <td> 0</td>\n",
        "      <td> 0</td>\n",
        "      <td>...</td>\n",
        "      <td> 0</td>\n",
        "      <td> 0</td>\n",
        "      <td> 0</td>\n",
        "      <td> 0</td>\n",
        "      <td> 0</td>\n",
        "      <td> 0</td>\n",
        "      <td> 0</td>\n",
        "      <td> 0</td>\n",
        "      <td> 0</td>\n",
        "      <td> 0</td>\n",
        "    </tr>\n",
        "    <tr>\n",
        "      <th>ADD_ISL1.2</th>\n",
        "      <td> 0.000000</td>\n",
        "      <td> 17.739614</td>\n",
        "      <td> 0</td>\n",
        "      <td> 0</td>\n",
        "      <td> 0</td>\n",
        "      <td> 0</td>\n",
        "      <td> 0</td>\n",
        "      <td> 0</td>\n",
        "      <td> 0</td>\n",
        "      <td> 0</td>\n",
        "      <td>...</td>\n",
        "      <td> 0</td>\n",
        "      <td> 0</td>\n",
        "      <td> 0</td>\n",
        "      <td> 0</td>\n",
        "      <td> 0</td>\n",
        "      <td> 0</td>\n",
        "      <td> 0</td>\n",
        "      <td> 0</td>\n",
        "      <td> 0</td>\n",
        "      <td> 0</td>\n",
        "    </tr>\n",
        "    <tr>\n",
        "      <th>ADD_ISL1.3</th>\n",
        "      <td> 0.000000</td>\n",
        "      <td>  7.332493</td>\n",
        "      <td> 0</td>\n",
        "      <td> 0</td>\n",
        "      <td> 0</td>\n",
        "      <td> 0</td>\n",
        "      <td> 0</td>\n",
        "      <td> 0</td>\n",
        "      <td> 0</td>\n",
        "      <td> 0</td>\n",
        "      <td>...</td>\n",
        "      <td> 0</td>\n",
        "      <td> 0</td>\n",
        "      <td> 0</td>\n",
        "      <td> 0</td>\n",
        "      <td> 0</td>\n",
        "      <td> 0</td>\n",
        "      <td> 0</td>\n",
        "      <td> 0</td>\n",
        "      <td> 0</td>\n",
        "      <td> 0</td>\n",
        "    </tr>\n",
        "    <tr>\n",
        "      <th>ADD_ISL2.1, ADD_ISL3.1</th>\n",
        "      <td> 0.000000</td>\n",
        "      <td> 45.264605</td>\n",
        "      <td> 0</td>\n",
        "      <td> 0</td>\n",
        "      <td> 0</td>\n",
        "      <td> 0</td>\n",
        "      <td> 0</td>\n",
        "      <td> 0</td>\n",
        "      <td> 0</td>\n",
        "      <td> 0</td>\n",
        "      <td>...</td>\n",
        "      <td> 0</td>\n",
        "      <td> 0</td>\n",
        "      <td> 0</td>\n",
        "      <td> 0</td>\n",
        "      <td> 0</td>\n",
        "      <td> 0</td>\n",
        "      <td> 0</td>\n",
        "      <td> 0</td>\n",
        "      <td> 0</td>\n",
        "      <td> 0</td>\n",
        "    </tr>\n",
        "  </tbody>\n",
        "</table>\n",
        "<p>5 rows \u00d7 48 columns</p>\n",
        "</div>"
       ],
       "metadata": {},
       "output_type": "pyout",
       "prompt_number": 123,
       "text": [
        "                            ALPE       ORON  UNET  TRUS  EASH  MPOW  WPOW  \\\n",
        "ABY_T2.T2               1.103349   0.000000     0     0     0     0     0   \n",
        "ADD_ISL1.1              0.000000  25.147134     0     0     0     0     0   \n",
        "ADD_ISL1.2              0.000000  17.739614     0     0     0     0     0   \n",
        "ADD_ISL1.3              0.000000   7.332493     0     0     0     0     0   \n",
        "ADD_ISL2.1, ADD_ISL3.1  0.000000  45.264605     0     0     0     0     0   \n",
        "\n",
        "                        OTPO  RAYN  MARL  ...   METH  NAPJ  MRPL  BUEL  WNST  \\\n",
        "ABY_T2.T2                  0     0     0  ...      0     0     0     0     0   \n",
        "ADD_ISL1.1                 0     0     0  ...      0     0     0     0     0   \n",
        "ADD_ISL1.2                 0     0     0  ...      0     0     0     0     0   \n",
        "ADD_ISL1.3                 0     0     0  ...      0     0     0     0     0   \n",
        "ADD_ISL2.1, ADD_ISL3.1     0     0     0  ...      0     0     0     0     0   \n",
        "\n",
        "                        TRPG  NZAS  PANP  TUAR  CHBP  \n",
        "ABY_T2.T2                  0     0     0     0     0  \n",
        "ADD_ISL1.1                 0     0     0     0     0  \n",
        "ADD_ISL1.2                 0     0     0     0     0  \n",
        "ADD_ISL1.3                 0     0     0     0     0  \n",
        "ADD_ISL2.1, ADD_ISL3.1     0     0     0     0     0  \n",
        "\n",
        "[5 rows x 48 columns]"
       ]
      }
     ],
     "prompt_number": 123
    },
    {
     "cell_type": "code",
     "collapsed": false,
     "input": [
      "tu.head()"
     ],
     "language": "python",
     "metadata": {},
     "outputs": [
      {
       "html": [
        "<div style=\"max-height:1000px;max-width:1500px;overflow:auto;\">\n",
        "<table border=\"1\" class=\"dataframe\">\n",
        "  <thead>\n",
        "    <tr style=\"text-align: right;\">\n",
        "      <th></th>\n",
        "      <th>ARA2201 ARA0</th>\n",
        "      <th>ARG1101 BRR0</th>\n",
        "      <th>ARI1101 ARI0</th>\n",
        "      <th>ARI1102 ARI0</th>\n",
        "      <th>ASB0661 HBK0</th>\n",
        "      <th>ATI2201 ATI0</th>\n",
        "      <th>AVI2201 AVI0</th>\n",
        "      <th>BEN0162 BEN0</th>\n",
        "      <th>BEN0163 BEN0</th>\n",
        "      <th>BEN2202 BEN0</th>\n",
        "      <th>...</th>\n",
        "      <th>TUI1101 TUI0</th>\n",
        "      <th>TWH0331 TRC1</th>\n",
        "      <th>WHI2201 WHI0</th>\n",
        "      <th>WKM2201 MOK0</th>\n",
        "      <th>WKM2201 WKM0</th>\n",
        "      <th>WPA2201 WPA0</th>\n",
        "      <th>WRK0331 RKA0</th>\n",
        "      <th>WRK0331 TAA0</th>\n",
        "      <th>WRK2201 WRK0</th>\n",
        "      <th>WTK0111 WTK0</th>\n",
        "    </tr>\n",
        "  </thead>\n",
        "  <tbody>\n",
        "    <tr>\n",
        "      <th>ABY_T2.T2</th>\n",
        "      <td> 0.000261</td>\n",
        "      <td> 0</td>\n",
        "      <td> 0.000000</td>\n",
        "      <td> 0.000004</td>\n",
        "      <td> 0.000000</td>\n",
        "      <td> 0.000031</td>\n",
        "      <td> 0.001228</td>\n",
        "      <td> 0.003796</td>\n",
        "      <td> 0.001483</td>\n",
        "      <td> 0.035123</td>\n",
        "      <td>...</td>\n",
        "      <td> 0.000000</td>\n",
        "      <td> 0.000494</td>\n",
        "      <td> 0</td>\n",
        "      <td> 0.001475</td>\n",
        "      <td> 0.000258</td>\n",
        "      <td> 0.000163</td>\n",
        "      <td> 0.000150</td>\n",
        "      <td> 0.000117</td>\n",
        "      <td> 0.001637</td>\n",
        "      <td> 0.000039</td>\n",
        "    </tr>\n",
        "    <tr>\n",
        "      <th>ADD_ISL1.1</th>\n",
        "      <td> 0.031574</td>\n",
        "      <td> 0</td>\n",
        "      <td> 0.000007</td>\n",
        "      <td> 0.000179</td>\n",
        "      <td> 0.078723</td>\n",
        "      <td> 0.006620</td>\n",
        "      <td> 2.169334</td>\n",
        "      <td> 0.834702</td>\n",
        "      <td> 0.175669</td>\n",
        "      <td> 1.362386</td>\n",
        "      <td>...</td>\n",
        "      <td> 0.000025</td>\n",
        "      <td> 0.023824</td>\n",
        "      <td> 0</td>\n",
        "      <td> 0.092546</td>\n",
        "      <td> 0.034135</td>\n",
        "      <td> 0.018550</td>\n",
        "      <td> 0.012899</td>\n",
        "      <td> 0.009555</td>\n",
        "      <td> 0.123696</td>\n",
        "      <td> 1.359533</td>\n",
        "    </tr>\n",
        "    <tr>\n",
        "      <th>ADD_ISL1.2</th>\n",
        "      <td> 0.022308</td>\n",
        "      <td> 0</td>\n",
        "      <td> 0.000005</td>\n",
        "      <td> 0.000129</td>\n",
        "      <td> 0.057415</td>\n",
        "      <td> 0.004669</td>\n",
        "      <td> 1.536829</td>\n",
        "      <td> 0.595581</td>\n",
        "      <td> 0.128119</td>\n",
        "      <td> 0.958523</td>\n",
        "      <td>...</td>\n",
        "      <td> 0.000017</td>\n",
        "      <td> 0.016992</td>\n",
        "      <td> 0</td>\n",
        "      <td> 0.065515</td>\n",
        "      <td> 0.024142</td>\n",
        "      <td> 0.013113</td>\n",
        "      <td> 0.009151</td>\n",
        "      <td> 0.006764</td>\n",
        "      <td> 0.087460</td>\n",
        "      <td> 0.960293</td>\n",
        "    </tr>\n",
        "    <tr>\n",
        "      <th>ADD_ISL1.3</th>\n",
        "      <td> 0.009284</td>\n",
        "      <td> 0</td>\n",
        "      <td> 0.000002</td>\n",
        "      <td> 0.000051</td>\n",
        "      <td> 0.021356</td>\n",
        "      <td> 0.001953</td>\n",
        "      <td> 0.633782</td>\n",
        "      <td> 0.239621</td>\n",
        "      <td> 0.047657</td>\n",
        "      <td> 0.404660</td>\n",
        "      <td>...</td>\n",
        "      <td> 0.000008</td>\n",
        "      <td> 0.006845</td>\n",
        "      <td> 0</td>\n",
        "      <td> 0.027086</td>\n",
        "      <td> 0.010014</td>\n",
        "      <td> 0.005448</td>\n",
        "      <td> 0.003755</td>\n",
        "      <td> 0.002794</td>\n",
        "      <td> 0.036309</td>\n",
        "      <td> 0.400035</td>\n",
        "    </tr>\n",
        "    <tr>\n",
        "      <th>ADD_ISL2.1, ADD_ISL3.1</th>\n",
        "      <td> 0.056958</td>\n",
        "      <td> 0</td>\n",
        "      <td> 0.000012</td>\n",
        "      <td> 0.000325</td>\n",
        "      <td> 0.143220</td>\n",
        "      <td> 0.011935</td>\n",
        "      <td> 3.916037</td>\n",
        "      <td> 1.509659</td>\n",
        "      <td> 0.319587</td>\n",
        "      <td> 2.454887</td>\n",
        "      <td>...</td>\n",
        "      <td> 0.000045</td>\n",
        "      <td> 0.043084</td>\n",
        "      <td> 0</td>\n",
        "      <td> 0.167034</td>\n",
        "      <td> 0.061594</td>\n",
        "      <td> 0.033469</td>\n",
        "      <td> 0.023292</td>\n",
        "      <td> 0.017245</td>\n",
        "      <td> 0.223181</td>\n",
        "      <td> 2.452276</td>\n",
        "    </tr>\n",
        "  </tbody>\n",
        "</table>\n",
        "<p>5 rows \u00d7 75 columns</p>\n",
        "</div>"
       ],
       "metadata": {},
       "output_type": "pyout",
       "prompt_number": 124,
       "text": [
        "                        ARA2201 ARA0  ARG1101 BRR0  ARI1101 ARI0  \\\n",
        "ABY_T2.T2                   0.000261             0      0.000000   \n",
        "ADD_ISL1.1                  0.031574             0      0.000007   \n",
        "ADD_ISL1.2                  0.022308             0      0.000005   \n",
        "ADD_ISL1.3                  0.009284             0      0.000002   \n",
        "ADD_ISL2.1, ADD_ISL3.1      0.056958             0      0.000012   \n",
        "\n",
        "                        ARI1102 ARI0  ASB0661 HBK0  ATI2201 ATI0  \\\n",
        "ABY_T2.T2                   0.000004      0.000000      0.000031   \n",
        "ADD_ISL1.1                  0.000179      0.078723      0.006620   \n",
        "ADD_ISL1.2                  0.000129      0.057415      0.004669   \n",
        "ADD_ISL1.3                  0.000051      0.021356      0.001953   \n",
        "ADD_ISL2.1, ADD_ISL3.1      0.000325      0.143220      0.011935   \n",
        "\n",
        "                        AVI2201 AVI0  BEN0162 BEN0  BEN0163 BEN0  \\\n",
        "ABY_T2.T2                   0.001228      0.003796      0.001483   \n",
        "ADD_ISL1.1                  2.169334      0.834702      0.175669   \n",
        "ADD_ISL1.2                  1.536829      0.595581      0.128119   \n",
        "ADD_ISL1.3                  0.633782      0.239621      0.047657   \n",
        "ADD_ISL2.1, ADD_ISL3.1      3.916037      1.509659      0.319587   \n",
        "\n",
        "                        BEN2202 BEN0      ...       TUI1101 TUI0  \\\n",
        "ABY_T2.T2                   0.035123      ...           0.000000   \n",
        "ADD_ISL1.1                  1.362386      ...           0.000025   \n",
        "ADD_ISL1.2                  0.958523      ...           0.000017   \n",
        "ADD_ISL1.3                  0.404660      ...           0.000008   \n",
        "ADD_ISL2.1, ADD_ISL3.1      2.454887      ...           0.000045   \n",
        "\n",
        "                        TWH0331 TRC1  WHI2201 WHI0  WKM2201 MOK0  \\\n",
        "ABY_T2.T2                   0.000494             0      0.001475   \n",
        "ADD_ISL1.1                  0.023824             0      0.092546   \n",
        "ADD_ISL1.2                  0.016992             0      0.065515   \n",
        "ADD_ISL1.3                  0.006845             0      0.027086   \n",
        "ADD_ISL2.1, ADD_ISL3.1      0.043084             0      0.167034   \n",
        "\n",
        "                        WKM2201 WKM0  WPA2201 WPA0  WRK0331 RKA0  \\\n",
        "ABY_T2.T2                   0.000258      0.000163      0.000150   \n",
        "ADD_ISL1.1                  0.034135      0.018550      0.012899   \n",
        "ADD_ISL1.2                  0.024142      0.013113      0.009151   \n",
        "ADD_ISL1.3                  0.010014      0.005448      0.003755   \n",
        "ADD_ISL2.1, ADD_ISL3.1      0.061594      0.033469      0.023292   \n",
        "\n",
        "                        WRK0331 TAA0  WRK2201 WRK0  WTK0111 WTK0  \n",
        "ABY_T2.T2                   0.000117      0.001637      0.000039  \n",
        "ADD_ISL1.1                  0.009555      0.123696      1.359533  \n",
        "ADD_ISL1.2                  0.006764      0.087460      0.960293  \n",
        "ADD_ISL1.3                  0.002794      0.036309      0.400035  \n",
        "ADD_ISL2.1, ADD_ISL3.1      0.017245      0.223181      2.452276  \n",
        "\n",
        "[5 rows x 75 columns]"
       ]
      }
     ],
     "prompt_number": 124
    },
    {
     "cell_type": "code",
     "collapsed": false,
     "input": [
      "sd.head()"
     ],
     "language": "python",
     "metadata": {},
     "outputs": [
      {
       "html": [
        "<div style=\"max-height:1000px;max-width:1500px;overflow:auto;\">\n",
        "<table border=\"1\" class=\"dataframe\">\n",
        "  <thead>\n",
        "    <tr style=\"text-align: right;\">\n",
        "      <th></th>\n",
        "      <th>TOPE</th>\n",
        "      <th>UNET</th>\n",
        "      <th>MRPL</th>\n",
        "      <th>NZRN</th>\n",
        "      <th>NPOW</th>\n",
        "      <th>VECT</th>\n",
        "      <th>CTCT</th>\n",
        "      <th>COUP</th>\n",
        "      <th>WAIK</th>\n",
        "      <th>WAIP</th>\n",
        "      <th>...</th>\n",
        "      <th>EASH</th>\n",
        "      <th>DUNE</th>\n",
        "      <th>LLNW</th>\n",
        "      <th>OTPO</th>\n",
        "      <th>WATA</th>\n",
        "      <th>RAYN</th>\n",
        "      <th>TPCO</th>\n",
        "      <th>NZAS</th>\n",
        "      <th>NZST</th>\n",
        "      <th>KUPE</th>\n",
        "    </tr>\n",
        "  </thead>\n",
        "  <tbody>\n",
        "    <tr>\n",
        "      <th>KOE</th>\n",
        "      <td> 20.062228</td>\n",
        "      <td>   0.000000</td>\n",
        "      <td> 0</td>\n",
        "      <td> 0</td>\n",
        "      <td>   0.000000</td>\n",
        "      <td>   0.000000</td>\n",
        "      <td> 0</td>\n",
        "      <td> 0</td>\n",
        "      <td> 0</td>\n",
        "      <td> 0</td>\n",
        "      <td>...</td>\n",
        "      <td> 0</td>\n",
        "      <td> 0</td>\n",
        "      <td> 0</td>\n",
        "      <td> 0</td>\n",
        "      <td> 0</td>\n",
        "      <td> 0</td>\n",
        "      <td> 0</td>\n",
        "      <td> 0</td>\n",
        "      <td> 0</td>\n",
        "      <td> 0</td>\n",
        "    </tr>\n",
        "    <tr>\n",
        "      <th>MDN</th>\n",
        "      <td> 35.668993</td>\n",
        "      <td>   0.000000</td>\n",
        "      <td> 0</td>\n",
        "      <td> 0</td>\n",
        "      <td> 119.864859</td>\n",
        "      <td>   0.000000</td>\n",
        "      <td> 0</td>\n",
        "      <td> 0</td>\n",
        "      <td> 0</td>\n",
        "      <td> 0</td>\n",
        "      <td>...</td>\n",
        "      <td> 0</td>\n",
        "      <td> 0</td>\n",
        "      <td> 0</td>\n",
        "      <td> 0</td>\n",
        "      <td> 0</td>\n",
        "      <td> 0</td>\n",
        "      <td> 0</td>\n",
        "      <td> 0</td>\n",
        "      <td> 0</td>\n",
        "      <td> 0</td>\n",
        "    </tr>\n",
        "    <tr>\n",
        "      <th>HPI</th>\n",
        "      <td> 17.870144</td>\n",
        "      <td>   0.000000</td>\n",
        "      <td> 0</td>\n",
        "      <td> 0</td>\n",
        "      <td> 101.793876</td>\n",
        "      <td>   0.000000</td>\n",
        "      <td> 0</td>\n",
        "      <td> 0</td>\n",
        "      <td> 0</td>\n",
        "      <td> 0</td>\n",
        "      <td>...</td>\n",
        "      <td> 0</td>\n",
        "      <td> 0</td>\n",
        "      <td> 0</td>\n",
        "      <td> 0</td>\n",
        "      <td> 0</td>\n",
        "      <td> 0</td>\n",
        "      <td> 0</td>\n",
        "      <td> 0</td>\n",
        "      <td> 0</td>\n",
        "      <td> 0</td>\n",
        "    </tr>\n",
        "    <tr>\n",
        "      <th>HEN</th>\n",
        "      <td> 20.138357</td>\n",
        "      <td> 237.967782</td>\n",
        "      <td> 0</td>\n",
        "      <td> 0</td>\n",
        "      <td> 123.528993</td>\n",
        "      <td> 174.419426</td>\n",
        "      <td> 0</td>\n",
        "      <td> 0</td>\n",
        "      <td> 0</td>\n",
        "      <td> 0</td>\n",
        "      <td>...</td>\n",
        "      <td> 0</td>\n",
        "      <td> 0</td>\n",
        "      <td> 0</td>\n",
        "      <td> 0</td>\n",
        "      <td> 0</td>\n",
        "      <td> 0</td>\n",
        "      <td> 0</td>\n",
        "      <td> 0</td>\n",
        "      <td> 0</td>\n",
        "      <td> 0</td>\n",
        "    </tr>\n",
        "    <tr>\n",
        "      <th>SVL</th>\n",
        "      <td>  0.000000</td>\n",
        "      <td>  73.157594</td>\n",
        "      <td> 0</td>\n",
        "      <td> 0</td>\n",
        "      <td>   0.000000</td>\n",
        "      <td>   0.000000</td>\n",
        "      <td> 0</td>\n",
        "      <td> 0</td>\n",
        "      <td> 0</td>\n",
        "      <td> 0</td>\n",
        "      <td>...</td>\n",
        "      <td> 0</td>\n",
        "      <td> 0</td>\n",
        "      <td> 0</td>\n",
        "      <td> 0</td>\n",
        "      <td> 0</td>\n",
        "      <td> 0</td>\n",
        "      <td> 0</td>\n",
        "      <td> 0</td>\n",
        "      <td> 0</td>\n",
        "      <td> 0</td>\n",
        "    </tr>\n",
        "  </tbody>\n",
        "</table>\n",
        "<p>5 rows \u00d7 48 columns</p>\n",
        "</div>"
       ],
       "metadata": {},
       "output_type": "pyout",
       "prompt_number": 125,
       "text": [
        "          TOPE        UNET  MRPL  NZRN        NPOW        VECT  CTCT  COUP  \\\n",
        "KOE  20.062228    0.000000     0     0    0.000000    0.000000     0     0   \n",
        "MDN  35.668993    0.000000     0     0  119.864859    0.000000     0     0   \n",
        "HPI  17.870144    0.000000     0     0  101.793876    0.000000     0     0   \n",
        "HEN  20.138357  237.967782     0     0  123.528993  174.419426     0     0   \n",
        "SVL   0.000000   73.157594     0     0    0.000000    0.000000     0     0   \n",
        "\n",
        "     WAIK  WAIP  ...   EASH  DUNE  LLNW  OTPO  WATA  RAYN  TPCO  NZAS  NZST  \\\n",
        "KOE     0     0  ...      0     0     0     0     0     0     0     0     0   \n",
        "MDN     0     0  ...      0     0     0     0     0     0     0     0     0   \n",
        "HPI     0     0  ...      0     0     0     0     0     0     0     0     0   \n",
        "HEN     0     0  ...      0     0     0     0     0     0     0     0     0   \n",
        "SVL     0     0  ...      0     0     0     0     0     0     0     0     0   \n",
        "\n",
        "     KUPE  \n",
        "KOE     0  \n",
        "MDN     0  \n",
        "HPI     0  \n",
        "HEN     0  \n",
        "SVL     0  \n",
        "\n",
        "[5 rows x 48 columns]"
       ]
      }
     ],
     "prompt_number": 125
    },
    {
     "cell_type": "code",
     "collapsed": false,
     "input": [
      "su.head()"
     ],
     "language": "python",
     "metadata": {},
     "outputs": [
      {
       "html": [
        "<div style=\"max-height:1000px;max-width:1500px;overflow:auto;\">\n",
        "<table border=\"1\" class=\"dataframe\">\n",
        "  <thead>\n",
        "    <tr style=\"text-align: right;\">\n",
        "      <th></th>\n",
        "      <th>KOE1101</th>\n",
        "      <th>NGA0331</th>\n",
        "      <th>MDN1101</th>\n",
        "      <th>MDN2201</th>\n",
        "      <th>HPI2202</th>\n",
        "      <th>HEN0331</th>\n",
        "      <th>HEN1101</th>\n",
        "      <th>HEN2201</th>\n",
        "      <th>SVL0331</th>\n",
        "      <th>SVL2201</th>\n",
        "      <th>...</th>\n",
        "      <th>HWB0332</th>\n",
        "      <th>KWA1101.1</th>\n",
        "      <th>KWA1101.2</th>\n",
        "      <th>BEN0162 BEN0</th>\n",
        "      <th>BEN0163 BEN0</th>\n",
        "      <th>TKB2201 TKB0</th>\n",
        "      <th>GOR2201</th>\n",
        "      <th>TKA0111 TKA0</th>\n",
        "      <th>WRU2201</th>\n",
        "      <th>HOB2201</th>\n",
        "    </tr>\n",
        "  </thead>\n",
        "  <tbody>\n",
        "    <tr>\n",
        "      <th>KOE</th>\n",
        "      <td> 2.63834</td>\n",
        "      <td> 0</td>\n",
        "      <td> 0</td>\n",
        "      <td> 0</td>\n",
        "      <td> 0</td>\n",
        "      <td>  0.000000</td>\n",
        "      <td> 0</td>\n",
        "      <td> 0</td>\n",
        "      <td> 0</td>\n",
        "      <td> 0</td>\n",
        "      <td>...</td>\n",
        "      <td> 0</td>\n",
        "      <td> 0</td>\n",
        "      <td> 0</td>\n",
        "      <td> 0.004196</td>\n",
        "      <td> 0.002018</td>\n",
        "      <td> 0.000000</td>\n",
        "      <td> 0</td>\n",
        "      <td> 0</td>\n",
        "      <td> 0</td>\n",
        "      <td> 0</td>\n",
        "    </tr>\n",
        "    <tr>\n",
        "      <th>NGA</th>\n",
        "      <td> 0.00000</td>\n",
        "      <td> 0</td>\n",
        "      <td> 0</td>\n",
        "      <td> 0</td>\n",
        "      <td> 0</td>\n",
        "      <td>  0.000000</td>\n",
        "      <td> 0</td>\n",
        "      <td> 0</td>\n",
        "      <td> 0</td>\n",
        "      <td> 0</td>\n",
        "      <td>...</td>\n",
        "      <td> 0</td>\n",
        "      <td> 0</td>\n",
        "      <td> 0</td>\n",
        "      <td> 0.000000</td>\n",
        "      <td> 0.000000</td>\n",
        "      <td> 0.000000</td>\n",
        "      <td> 0</td>\n",
        "      <td> 0</td>\n",
        "      <td> 0</td>\n",
        "      <td> 0</td>\n",
        "    </tr>\n",
        "    <tr>\n",
        "      <th>MDN</th>\n",
        "      <td> 0.00000</td>\n",
        "      <td> 0</td>\n",
        "      <td> 0</td>\n",
        "      <td> 0</td>\n",
        "      <td> 0</td>\n",
        "      <td>  0.000000</td>\n",
        "      <td> 0</td>\n",
        "      <td> 0</td>\n",
        "      <td> 0</td>\n",
        "      <td> 0</td>\n",
        "      <td>...</td>\n",
        "      <td> 0</td>\n",
        "      <td> 0</td>\n",
        "      <td> 0</td>\n",
        "      <td> 0.054058</td>\n",
        "      <td> 0.024002</td>\n",
        "      <td> 0.000001</td>\n",
        "      <td> 0</td>\n",
        "      <td> 0</td>\n",
        "      <td> 0</td>\n",
        "      <td> 0</td>\n",
        "    </tr>\n",
        "    <tr>\n",
        "      <th>HPI</th>\n",
        "      <td> 0.00000</td>\n",
        "      <td> 0</td>\n",
        "      <td> 0</td>\n",
        "      <td> 0</td>\n",
        "      <td> 0</td>\n",
        "      <td>  0.000000</td>\n",
        "      <td> 0</td>\n",
        "      <td> 0</td>\n",
        "      <td> 0</td>\n",
        "      <td> 0</td>\n",
        "      <td>...</td>\n",
        "      <td> 0</td>\n",
        "      <td> 0</td>\n",
        "      <td> 0</td>\n",
        "      <td> 0.040262</td>\n",
        "      <td> 0.017757</td>\n",
        "      <td> 0.000001</td>\n",
        "      <td> 0</td>\n",
        "      <td> 0</td>\n",
        "      <td> 0</td>\n",
        "      <td> 0</td>\n",
        "    </tr>\n",
        "    <tr>\n",
        "      <th>HEN</th>\n",
        "      <td> 0.00000</td>\n",
        "      <td> 0</td>\n",
        "      <td> 0</td>\n",
        "      <td> 0</td>\n",
        "      <td> 0</td>\n",
        "      <td> 29.098201</td>\n",
        "      <td> 0</td>\n",
        "      <td> 0</td>\n",
        "      <td> 0</td>\n",
        "      <td> 0</td>\n",
        "      <td>...</td>\n",
        "      <td> 0</td>\n",
        "      <td> 0</td>\n",
        "      <td> 0</td>\n",
        "      <td> 0.159130</td>\n",
        "      <td> 0.068370</td>\n",
        "      <td> 0.000003</td>\n",
        "      <td> 0</td>\n",
        "      <td> 0</td>\n",
        "      <td> 0</td>\n",
        "      <td> 0</td>\n",
        "    </tr>\n",
        "  </tbody>\n",
        "</table>\n",
        "<p>5 rows \u00d7 609 columns</p>\n",
        "</div>"
       ],
       "metadata": {},
       "output_type": "pyout",
       "prompt_number": 126,
       "text": [
        "     KOE1101  NGA0331  MDN1101  MDN2201  HPI2202    HEN0331  HEN1101  HEN2201  \\\n",
        "KOE  2.63834        0        0        0        0   0.000000        0        0   \n",
        "NGA  0.00000        0        0        0        0   0.000000        0        0   \n",
        "MDN  0.00000        0        0        0        0   0.000000        0        0   \n",
        "HPI  0.00000        0        0        0        0   0.000000        0        0   \n",
        "HEN  0.00000        0        0        0        0  29.098201        0        0   \n",
        "\n",
        "     SVL0331  SVL2201   ...     HWB0332  KWA1101.1  KWA1101.2  BEN0162 BEN0  \\\n",
        "KOE        0        0   ...           0          0          0      0.004196   \n",
        "NGA        0        0   ...           0          0          0      0.000000   \n",
        "MDN        0        0   ...           0          0          0      0.054058   \n",
        "HPI        0        0   ...           0          0          0      0.040262   \n",
        "HEN        0        0   ...           0          0          0      0.159130   \n",
        "\n",
        "     BEN0163 BEN0  TKB2201 TKB0  GOR2201  TKA0111 TKA0  WRU2201  HOB2201  \n",
        "KOE      0.002018      0.000000        0             0        0        0  \n",
        "NGA      0.000000      0.000000        0             0        0        0  \n",
        "MDN      0.024002      0.000001        0             0        0        0  \n",
        "HPI      0.017757      0.000001        0             0        0        0  \n",
        "HEN      0.068370      0.000003        0             0        0        0  \n",
        "\n",
        "[5 rows x 609 columns]"
       ]
      }
     ],
     "prompt_number": 126
    },
    {
     "cell_type": "code",
     "collapsed": false,
     "input": [
      "# add HHI columns to each trace output matrix\n",
      "\n",
      "def hhi(dfrow):\n",
      "    '''HHI calculator, use with apply etc, eg., df.apply(lambda x: hhi(x),axis=1)'''\n",
      "    row = [float(ihhi) for ihhi in dfrow]\n",
      "    return np.sum(((row/np.sum(row))**2))*10000\n",
      "\n"
     ],
     "language": "python",
     "metadata": {},
     "outputs": [],
     "prompt_number": 127
    },
    {
     "cell_type": "code",
     "collapsed": false,
     "input": [
      "td['HHI'] = td.apply(lambda x: hhi(x), axis=1)\n",
      "tu['HHI'] = tu.apply(lambda x: hhi(x), axis=1)\n",
      "sd['HHI'] = sd.apply(lambda x: hhi(x), axis=1)\n",
      "su['HHI'] = su.apply(lambda x: hhi(x), axis=1)"
     ],
     "language": "python",
     "metadata": {},
     "outputs": [],
     "prompt_number": 128
    },
    {
     "cell_type": "code",
     "collapsed": false,
     "input": [
      "# save to csv \n",
      "td.to_csv(os.path.join(total_output_path, 'td_hhi.csv'))\n",
      "tu.to_csv(os.path.join(total_output_path, 'tu_hhi.csv'))\n",
      "sd.to_csv(os.path.join(total_output_path, 'sd_hhi.csv'))\n",
      "su.to_csv(os.path.join(total_output_path, 'su_hhi.csv'))"
     ],
     "language": "python",
     "metadata": {},
     "outputs": [],
     "prompt_number": 129
    }
   ],
   "metadata": {}
  }
 ]
}